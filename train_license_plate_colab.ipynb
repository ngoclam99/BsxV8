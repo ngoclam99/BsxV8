{
 "cells": [
  {
   "cell_type": "markdown",
   "metadata": {
    "id": "title"
   },
   "source": [
    "# 🚗 Nhận Diện Biển Số Xe với YOLOv8\n",
    "## Training trên Google Colab\n",
    "\n",
    "Notebook này sẽ train model YOLOv8 để nhận diện biển số xe sử dụng dataset của bạn."
   ]
  },
  {
   "cell_type": "markdown",
   "metadata": {
    "id": "setup"
   },
   "source": [
    "## 1. Cài đặt thư viện cần thiết"
   ]
  },
  {
   "cell_type": "code",
   "execution_count": null,
   "metadata": {
    "id": "install"
   },
   "outputs": [],
   "source": [
    "# Cài đặt ultralytics và các thư viện cần thiết\n",
    "!pip install ultralytics\n",
    "!pip install roboflow\n",
    "\n",
    "# Import thư viện\n",
    "import torch\n",
    "import os\n",
    "import shutil\n",
    "from ultralytics import YOLO\n",
    "from IPython.display import Image, display\n",
    "import matplotlib.pyplot as plt\n",
    "\n",
    "print(f\"PyTorch version: {torch.__version__}\")\n",
    "print(f\"CUDA available: {torch.cuda.is_available()}\")\n",
    "if torch.cuda.is_available():\n",
    "    print(f\"GPU: {torch.cuda.get_device_name(0)}\")\n",
    "    print(f\"GPU Memory: {torch.cuda.get_device_properties(0).total_memory / 1024**3:.1f} GB\")"
   ]
  },
  {
   "cell_type": "markdown",
   "metadata": {
    "id": "mount_drive"
   },
   "source": [
    "## 2. Kết nối Google Drive (Tùy chọn)"
   ]
  },
  {
   "cell_type": "code",
   "execution_count": null,
   "metadata": {
    "id": "drive"
   },
   "outputs": [],
   "source": [
    "# Mount Google Drive để lưu trữ dataset và kết quả\n",
    "from google.colab import drive\n",
    "drive.mount('/content/drive')\n",
    "\n",
    "# Tạo thư mục làm việc\n",
    "work_dir = '/content/license_plate_detection'\n",
    "os.makedirs(work_dir, exist_ok=True)\n",
    "os.chdir(work_dir)\n",
    "print(f\"Working directory: {os.getcwd()}\")"
   ]
  },
  {
   "cell_type": "markdown",
   "metadata": {
    "id": "upload_data"
   },
   "source": [
    "## 3. Upload Dataset\n",
    "### Cách 1: Clone từ GitHub (Khuyến nghị)"
   ]
  },
  {
   "cell_type": "code",
   "execution_count": null,
   "metadata": {
    "id": "github_clone"
   },
   "outputs": [],
   "source": [
    "# Clone repository từ GitHub (thay YOUR_GITHUB_USERNAME và YOUR_REPO_NAME)\n",
    "# !git clone https://github.com/YOUR_GITHUB_USERNAME/NhanDienBSX.git\n",
    "# os.chdir('NhanDienBSX')\n",
    "\n",
    "# Hoặc download từ link trực tiếp\n",
    "print(\"Nếu bạn có GitHub repo, uncomment và sửa lại dòng git clone ở trên\")\n",
    "print(\"Hoặc sử dụng cách upload file ở cell tiếp theo\")"
   ]
  },
  {
   "cell_type": "markdown",
   "metadata": {
    "id": "upload_manual"
   },
   "source": [
    "### Cách 2: Upload thủ công"
   ]
  },
  {
   "cell_type": "code",
   "execution_count": null,
   "metadata": {
    "id": "manual_upload"
   },
   "outputs": [],
   "source": [
    "# Upload files từ máy tính\n",
    "from google.colab import files\n",
    "\n",
    "print(\"Upload file mydata.yaml:\")\n",
    "uploaded = files.upload()\n",
    "\n",
    "print(\"\\nUpload dataset folder (nén thành .zip trước):\")\n",
    "uploaded_dataset = files.upload()\n",
    "\n",
    "# Giải nén dataset nếu cần\n",
    "import zipfile\n",
    "for filename in uploaded_dataset.keys():\n",
    "    if filename.endswith('.zip'):\n",
    "        with zipfile.ZipFile(filename, 'r') as zip_ref:\n",
    "            zip_ref.extractall('.')\n",
    "        print(f\"Đã giải nén {filename}\")"
   ]
  },
  {
   "cell_type": "markdown",
   "metadata": {
    "id": "create_yaml"
   },
   "source": [
    "## 4. Tạo file cấu hình dataset"
   ]
  },
  {
   "cell_type": "code",
   "execution_count": null,
   "metadata": {
    "id": "yaml_config"
   },
   "outputs": [],
   "source": [
    "# Tạo file mydata.yaml với đường dẫn tuyệt đối\n",
    "import os\n",
    "current_dir = os.getcwd()\n",
    "dataset_path = os.path.join(current_dir, 'dataset')\n",
    "\n",
    "yaml_content = f\"\"\"\n",
    "# Dataset configuration for License Plate Detection\n",
    "path: {dataset_path}  # dataset root dir (absolute path)\n",
    "train: images/train  # train images (relative to 'path')\n",
    "val: images/val  # val images (relative to 'path')\n",
    "test:  # test images (optional)\n",
    "\n",
    "# Classes\n",
    "names:\n",
    "  0: Bien_So\n",
    "\n",
    "# Number of classes\n",
    "nc: 1\n",
    "\"\"\"\n",
    "\n",
    "with open('mydata.yaml', 'w', encoding='utf-8') as f:\n",
    "    f.write(yaml_content)\n",
    "\n",
    "print(f\"Đã tạo file mydata.yaml với đường dẫn: {dataset_path}\")\n",
    "print(\"Nội dung file:\")\n",
    "with open('mydata.yaml', 'r', encoding='utf-8') as f:\n",
    "    print(f.read())"
   ]
  },
  {
   "cell_type": "markdown",
   "metadata": {
    "id": "check_dataset"
   },
   "source": [
    "## 5. Kiểm tra cấu trúc dataset"
   ]
  },
  {
   "cell_type": "code",
   "execution_count": null,
   "metadata": {
    "id": "dataset_check"
   },
   "outputs": [],
   "source": [
    "# Kiểm tra cấu trúc thư mục\n",
    "def check_dataset_structure():\n",
    "    required_dirs = [\n",
    "        'dataset/images/train',\n",
    "        'dataset/images/val',\n",
    "        'dataset/labels/train',\n",
    "        'dataset/labels/val'\n",
    "    ]\n",
    "    \n",
    "    print(\"Kiểm tra cấu trúc dataset:\")\n",
    "    all_good = True\n",
    "    for dir_path in required_dirs:\n",
    "        if os.path.exists(dir_path):\n",
    "            files = [f for f in os.listdir(dir_path) if f.endswith(('.jpg', '.png', '.jpeg', '.txt'))]\n",
    "            file_count = len(files)\n",
    "            print(f\"✅ {dir_path}: {file_count} files\")\n",
    "            if file_count == 0:\n",
    "                print(f\"   ⚠️  Thư mục trống!\")\n",
    "                all_good = False\n",
    "        else:\n",
    "            print(f\"❌ {dir_path}: Không tồn tại\")\n",
    "            all_good = False\n",
    "    \n",
    "    # Kiểm tra tương ứng giữa images và labels\n",
    "    train_images = [f.split('.')[0] for f in os.listdir('dataset/images/train') if f.endswith(('.jpg', '.png', '.jpeg'))]\n",
    "    train_labels = [f.split('.')[0] for f in os.listdir('dataset/labels/train') if f.endswith('.txt')]\n",
    "    val_images = [f.split('.')[0] for f in os.listdir('dataset/images/val') if f.endswith(('.jpg', '.png', '.jpeg'))]\n",
    "    val_labels = [f.split('.')[0] for f in os.listdir('dataset/labels/val') if f.endswith('.txt')]\n",
    "    \n",
    "    print(f\"\\n📊 Thống kê dataset:\")\n",
    "    print(f\"   Train: {len(train_images)} images, {len(train_labels)} labels\")\n",
    "    print(f\"   Val: {len(val_images)} images, {len(val_labels)} labels\")\n",
    "    \n",
    "    if len(train_images) != len(train_labels):\n",
    "        print(f\"   ⚠️  Train: Số lượng images và labels không khớp!\")\n",
    "        all_good = False\n",
    "    if len(val_images) != len(val_labels):\n",
    "        print(f\"   ⚠️  Val: Số lượng images và labels không khớp!\")\n",
    "        all_good = False\n",
    "    \n",
    "    if all_good:\n",
    "        print(\"\\n🎉 Dataset đã sẵn sàng cho training!\")\n",
    "    else:\n",
    "        print(\"\\n❌ Dataset có vấn đề, cần kiểm tra lại!\")\n",
    "    \n",
    "    return all_good\n",
    "\n",
    "dataset_ready = check_dataset_structure()\n",
    "\n",
    "# Hiển thị cấu trúc thư mục\n",
    "print(\"\\n📁 Cấu trúc thư mục:\")\n",
    "!find . -type d -name \"*\" | head -20"
   ]
  },
  {
   "cell_type": "markdown",
   "metadata": {
    "id": "train_model"
   },
   "source": [
    "## 6. Training Model"
   ]
  },
  {
   "cell_type": "code",
   "execution_count": null,
   "metadata": {
    "id": "training"
   },
   "outputs": [],
   "source": [
    "# Kiểm tra dataset trước khi training\n",
    "if not dataset_ready:\n",
    "    print(\"❌ Dataset chưa sẵn sàng! Vui lòng kiểm tra lại.\")\n",
    "    raise Exception(\"Dataset không hợp lệ\")\n",
    "\n",
    "# Kiểm tra file mydata.yaml\n",
    "if not os.path.exists('mydata.yaml'):\n",
    "    print(\"❌ File mydata.yaml không tồn tại!\")\n",
    "    raise Exception(\"File cấu hình dataset không tồn tại\")\n",
    "\n",
    "# Load pretrained YOLO model\n",
    "print(\"📥 Downloading pretrained model...\")\n",
    "model = YOLO(\"yolov8x.pt\")  # hoặc yolov8n.pt, yolov8s.pt, yolov8m.pt, yolov8l.pt\n",
    "\n",
    "# Training parameters\n",
    "EPOCHS = 50\n",
    "IMG_SIZE = 640\n",
    "BATCH_SIZE = 16  # Giảm nếu bị out of memory\n",
    "\n",
    "print(f\"\\n🚀 Bắt đầu training với {EPOCHS} epochs...\")\n",
    "print(f\"📱 Device: {'GPU' if torch.cuda.is_available() else 'CPU'}\")\n",
    "print(f\"🖼️  Image size: {IMG_SIZE}\")\n",
    "print(f\"📦 Batch size: {BATCH_SIZE}\")\n",
    "\n",
    "# Validate dataset trước khi train\n",
    "try:\n",
    "    print(\"\\n🔍 Validating dataset...\")\n",
    "    model.val(data=\"mydata.yaml\", split='val')\n",
    "    print(\"✅ Dataset validation thành công!\")\n",
    "except Exception as e:\n",
    "    print(f\"❌ Dataset validation failed: {e}\")\n",
    "    print(\"Kiểm tra lại đường dẫn và cấu trúc dataset\")\n",
    "    raise\n",
    "\n",
    "# Train the model\n",
    "print(\"\\n🏋️ Bắt đầu training...\")\n",
    "results = model.train(\n",
    "    data=\"mydata.yaml\",\n",
    "    epochs=EPOCHS,\n",
    "    imgsz=IMG_SIZE,\n",
    "    batch=BATCH_SIZE,\n",
    "    device=0 if torch.cuda.is_available() else 'cpu',\n",
    "    project='/content/runs',\n",
    "    name='license_plate_detection',\n",
    "    save=True,\n",
    "    save_period=10,  # Lưu checkpoint mỗi 10 epochs\n",
    "    patience=20,  # Early stopping\n",
    "    verbose=True,\n",
    "    plots=True  # Tạo plots\n",
    ")\n",
    "\n",
    "print(\"\\n🎉 Training hoàn thành!\")"
   ]
  },
  {
   "cell_type": "markdown",
   "metadata": {
    "id": "results"
   },
   "source": [
    "## 7. Xem kết quả training"
   ]
  },
  {
   "cell_type": "code",
   "execution_count": null,
   "metadata": {
    "id": "view_results"
   },
   "outputs": [],
   "source": [
    "# Hiển thị kết quả training\n",
    "results_dir = '/content/runs/license_plate_detection'\n",
    "\n",
    "# Tìm thư mục kết quả mới nhất\n",
    "import glob\n",
    "result_folders = glob.glob('/content/runs/license_plate_detection*')\n",
    "if result_folders:\n",
    "    latest_folder = max(result_folders, key=os.path.getctime)\n",
    "    print(f\"Thư mục kết quả: {latest_folder}\")\n",
    "    \n",
    "    # Hiển thị các biểu đồ training\n",
    "    plots = ['results.png', 'confusion_matrix.png', 'train_batch0.png', 'val_batch0_pred.png']\n",
    "    \n",
    "    for plot in plots:\n",
    "        plot_path = os.path.join(latest_folder, plot)\n",
    "        if os.path.exists(plot_path):\n",
    "            print(f\"\\n📊 {plot}:\")\n",
    "            display(Image(plot_path))\n",
    "        else:\n",
    "            print(f\"❌ Không tìm thấy {plot}\")\n",
    "else:\n",
    "    print(\"❌ Không tìm thấy thư mục kết quả\")"
   ]
  },
  {
   "cell_type": "markdown",
   "metadata": {
    "id": "test_model"
   },
   "source": [
    "## 8. Test model với ảnh mẫu"
   ]
  },
  {
   "cell_type": "code",
   "execution_count": null,
   "metadata": {
    "id": "testing"
   },
   "outputs": [],
   "source": [
    "# Load model đã train\n",
    "best_model_path = os.path.join(latest_folder, 'weights', 'best.pt')\n",
    "if os.path.exists(best_model_path):\n",
    "    trained_model = YOLO(best_model_path)\n",
    "    print(f\"✅ Đã load model: {best_model_path}\")\n",
    "    \n",
    "    # Test với ảnh validation\n",
    "    val_images = glob.glob('dataset/images/val/*.jpg') + glob.glob('dataset/images/val/*.png')\n",
    "    \n",
    "    if val_images:\n",
    "        test_image = val_images[0]\n",
    "        print(f\"\\n🔍 Test với ảnh: {test_image}\")\n",
    "        \n",
    "        # Predict\n",
    "        results = trained_model(test_image)\n",
    "        \n",
    "        # Hiển thị kết quả\n",
    "        results[0].show()\n",
    "        \n",
    "        # Lưu kết quả\n",
    "        results[0].save('prediction_result.jpg')\n",
    "        display(Image('prediction_result.jpg'))\n",
    "    else:\n",
    "        print(\"❌ Không tìm thấy ảnh test\")\n",
    "else:\n",
    "    print(\"❌ Không tìm thấy model đã train\")"
   ]
  },
  {
   "cell_type": "markdown",
   "metadata": {
    "id": "download"
   },
   "source": [
    "## 9. Download model và kết quả"
   ]
  },
  {
   "cell_type": "code",
   "execution_count": null,
   "metadata": {
    "id": "download_results"
   },
   "outputs": [],
   "source": [
    "# Nén và download kết quả\n",
    "import shutil\n",
    "\n",
    "if result_folders:\n",
    "    # Tạo file zip chứa kết quả\n",
    "    shutil.make_archive('license_plate_model', 'zip', latest_folder)\n",
    "    \n",
    "    # Download file zip\n",
    "    files.download('license_plate_model.zip')\n",
    "    \n",
    "    # Download riêng file model tốt nhất\n",
    "    if os.path.exists(best_model_path):\n",
    "        shutil.copy(best_model_path, 'best_license_plate_model.pt')\n",
    "        files.download('best_license_plate_model.pt')\n",
    "    \n",
    "    print(\"✅ Đã download model và kết quả training!\")\n",
    "    print(f\"📁 Model path: {best_model_path}\")\n",
    "    print(f\"📊 Results folder: {latest_folder}\")\n",
    "else:\n",
    "    print(\"❌ Không có kết quả để download\")"
   ]
  },
  {
   "cell_type": "markdown",
   "metadata": {
    "id": "save_to_drive"
   },
   "source": [
    "## 10. Lưu vào Google Drive"
   ]
  },
  {
   "cell_type": "code",
   "execution_count": null,
   "metadata": {
    "id": "save_drive"
   },
   "outputs": [],
   "source": [
    "# Lưu kết quả vào Google Drive\n",
    "drive_save_path = '/content/drive/MyDrive/license_plate_detection_results'\n",
    "os.makedirs(drive_save_path, exist_ok=True)\n",
    "\n",
    "if result_folders:\n",
    "    # Copy toàn bộ kết quả\n",
    "    shutil.copytree(latest_folder, os.path.join(drive_save_path, 'training_results'), dirs_exist_ok=True)\n",
    "    \n",
    "    # Copy model tốt nhất\n",
    "    if os.path.exists(best_model_path):\n",
    "        shutil.copy(best_model_path, os.path.join(drive_save_path, 'best_model.pt'))\n",
    "    \n",
    "    print(f\"✅ Đã lưu kết quả vào Google Drive: {drive_save_path}\")\n",
    "else:\n",
    "    print(\"❌ Không có kết quả để lưu\")\n",
    "\n",
    "print(\"\\n🎉 Hoàn thành! Model đã được train và lưu trữ.\")"
   ]
  }
 ],
 "metadata": {
  "accelerator": "GPU",
  "colab": {
   "gpuType": "T4",
   "provenance": []
  },
  "kernelspec": {
   "display_name": "Python 3",
   "name": "python3"
  },
  "language_info": {
   "name": "python"
  }
 },
 "nbformat": 4,
 "nbformat_minor": 0
}
